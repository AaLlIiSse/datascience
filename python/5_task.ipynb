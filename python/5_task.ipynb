{
 "cells": [
  {
   "cell_type": "markdown",
   "id": "85755de8",
   "metadata": {},
   "source": [
    "# Самостоятельное задание #5\n",
    "\n",
    "\n",
    "### Задание 1\n",
    "\n",
    "Допишите функцию, которая принимает список, выбирает из него все элементы с четным индексом и возвращает их в виде списка."
   ]
  },
  {
   "cell_type": "code",
   "execution_count": 1,
   "id": "6ef6d9b3",
   "metadata": {},
   "outputs": [
    {
     "name": "stdout",
     "output_type": "stream",
     "text": [
      "[1, 3, 5]\n"
     ]
    }
   ],
   "source": [
    "def even_id(_list:list) -> list:\n",
    "    _list_even = _list.copy()\n",
    "    return _list_even[::2]\n",
    "\n",
    "print(even_id([1, 2, 3, 4, 5, 6]))"
   ]
  },
  {
   "cell_type": "markdown",
   "id": "443974c9",
   "metadata": {},
   "source": [
    "### Задание 2\n",
    "\n",
    "Допишите функцию, которая принимает список, выбирает из него все элементы, которые больше предыдущего и возвращает их в виде списка.\n"
   ]
  },
  {
   "cell_type": "code",
   "execution_count": 2,
   "id": "3a8cf925",
   "metadata": {},
   "outputs": [
    {
     "name": "stdout",
     "output_type": "stream",
     "text": [
      "[2, 4, 7]\n"
     ]
    }
   ],
   "source": [
    "def more(_list:list) -> list:\n",
    "    _list_more = []\n",
    "    for i in range(len(_list)-1):\n",
    "        if _list[i+1] > _list[i]:\n",
    "            _list_more.append(_list[i+1])\n",
    "    return _list_more\n",
    "\n",
    "mlist = [ 1, 2, 1, 4, 7]\n",
    "print(more(mlist))"
   ]
  },
  {
   "cell_type": "markdown",
   "id": "34524ede",
   "metadata": {},
   "source": [
    "### Задание 3\n",
    "\n",
    "Допишите функцию, которая принимает список, меняет местами наибольший и наименьший элементы и возвращает этот список."
   ]
  },
  {
   "cell_type": "code",
   "execution_count": 4,
   "id": "34d2beae",
   "metadata": {},
   "outputs": [
    {
     "name": "stdout",
     "output_type": "stream",
     "text": [
      "[9, 3, 100, 56, 2]\n"
     ]
    }
   ],
   "source": [
    "def change(_list:list):\n",
    "    max_index = _list.index(max(_list))\n",
    "    min_index = _list.index(min(_list))\n",
    "\n",
    "    min_list = min(_list)\n",
    "    max_list = max(_list)\n",
    "      \n",
    "    _list[max_index] = min_list\n",
    "    _list[min_index] = max_list\n",
    "    return _list \n",
    "\n",
    "my_list = [9, 3, 2, 56, 100]\n",
    "\n",
    "print(change(my_list))"
   ]
  }
 ],
 "metadata": {
  "kernelspec": {
   "display_name": "Python 3.10.7 64-bit",
   "language": "python",
   "name": "python3"
  },
  "language_info": {
   "codemirror_mode": {
    "name": "ipython",
    "version": 3
   },
   "file_extension": ".py",
   "mimetype": "text/x-python",
   "name": "python",
   "nbconvert_exporter": "python",
   "pygments_lexer": "ipython3",
   "version": "3.10.7"
  },
  "vscode": {
   "interpreter": {
    "hash": "00bdf3be5446fdce3e7379d2e3094918f7572d10fb9c78806726450d207ce834"
   }
  }
 },
 "nbformat": 4,
 "nbformat_minor": 5
}
