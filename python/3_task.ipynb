{
 "cells": [
  {
   "cell_type": "markdown",
   "id": "657be689",
   "metadata": {},
   "source": [
    "# Самостоятельное задание #3\n",
    "\n",
    "\n",
    "### Задание 1\n",
    "\n",
    "Допишите функцию, которая принимает массив из 10 чисел и возвращает их сумму."
   ]
  },
  {
   "cell_type": "code",
   "execution_count": 1,
   "id": "b28cce28",
   "metadata": {},
   "outputs": [
    {
     "name": "stdout",
     "output_type": "stream",
     "text": [
      "55\n"
     ]
    }
   ],
   "source": [
    "def sum_of_10(list_:list[10]) -> int:\n",
    "    s = 0\n",
    "    for i in list_:\n",
    "        s+=i\n",
    "    return s\n",
    "\n",
    "\n",
    "list_num = [1, 2, 3, 4, 5, 6, 7, 8, 9, 10]\n",
    "\n",
    "print(sum_of_10(list_num))"
   ]
  },
  {
   "cell_type": "markdown",
   "id": "eb78afc0",
   "metadata": {},
   "source": [
    "\n",
    "### Задание 2\n",
    "\n",
    "Допишите функцию, которая принимает массив чисел и возвращает количество чисел равных нулю."
   ]
  },
  {
   "cell_type": "code",
   "execution_count": 5,
   "id": "96bd80f4",
   "metadata": {},
   "outputs": [
    {
     "name": "stdout",
     "output_type": "stream",
     "text": [
      "3\n"
     ]
    }
   ],
   "source": [
    "def zero_in_list(in_list:list) -> int:\n",
    "    s = 0\n",
    "    for i in my_list:\n",
    "        if i == 0: s+= 1\n",
    "    return s\n",
    "\n",
    "my_list = [0, 0, 0, 1, 2]\n",
    "\n",
    "print(zero_in_list(my_list))"
   ]
  },
  {
   "cell_type": "markdown",
   "id": "570d5a26",
   "metadata": {},
   "source": [
    "\n",
    "### Задание 3\n",
    "\n",
    "Напишите программу, в которой задается  натуральное число n и выводится лестница из n ступенек, i-я ступенька должна состоять из чисел от 1 до i без пробелов."
   ]
  },
  {
   "cell_type": "code",
   "execution_count": 7,
   "id": "69fd0501",
   "metadata": {},
   "outputs": [
    {
     "name": "stdout",
     "output_type": "stream",
     "text": [
      "\n",
      "1\n",
      "12\n",
      "123\n",
      "1234\n",
      "12345\n",
      "123456\n",
      "1234567\n",
      "12345678\n",
      "123456789\n"
     ]
    }
   ],
   "source": [
    "def stairs(k):\n",
    "    for i in range(k+1):\n",
    "        for j in range(1, i+1):\n",
    "            print(j, end='')\n",
    "        print()\n",
    "\n",
    "stairs(9)"
   ]
  },
  {
   "cell_type": "markdown",
   "id": "b6ef1c44",
   "metadata": {},
   "source": [
    "\n",
    "### Задание 4\n",
    "\n",
    "Напишите программу, в которой задается натуральное число n и выводится пирамида из n ступенек, i-я ступень должна состоять из чисел от 1 до i и обратно без пробелов."
   ]
  },
  {
   "cell_type": "code",
   "execution_count": 8,
   "id": "6b038f87",
   "metadata": {},
   "outputs": [
    {
     "name": "stdout",
     "output_type": "stream",
     "text": [
      "11\n",
      "1221\n",
      "123321\n",
      "12344321\n",
      "1234554321\n"
     ]
    }
   ],
   "source": [
    "def stairs(k):\n",
    "    for i in range(1, k+1):\n",
    "        for p in range(1, i+1):\n",
    "            print(p, end='')\n",
    "        for j in range(i, 0, -1):\n",
    "            print(j, end='')\n",
    "        print()\n",
    "\n",
    "stairs(5)\n"
   ]
  },
  {
   "cell_type": "markdown",
   "id": "b4552ef5",
   "metadata": {},
   "source": [
    "\n",
    "### Задание 5\n",
    "\n",
    "Напишите программу, в которой задается натуральное число n и выводится ромб из `n*2-1` ступенек, i-я ступень должна состоять из чисел от 1 до i и обратно без пробелов."
   ]
  },
  {
   "cell_type": "code",
   "execution_count": 9,
   "id": "5eaae897",
   "metadata": {},
   "outputs": [
    {
     "name": "stdout",
     "output_type": "stream",
     "text": [
      "    1\n",
      "   123\n",
      "  12345\n",
      " 1234567\n",
      "123456789\n",
      " 1234567\n",
      "  12345\n",
      "   123\n",
      "    1\n"
     ]
    }
   ],
   "source": [
    "def romb(step):\n",
    "    space_number = step - 1\n",
    "    midle = False\n",
    "    for i  in range(0,step*2-1):\n",
    "        step_number = 1\n",
    "        for j in range(1,step + 1):\n",
    "            if j > space_number:\n",
    "                print(step_number, end='')\n",
    "                step_number += 1 \n",
    "            else:\n",
    "                print(' ',end='')\n",
    "\n",
    "        if space_number == 0:\n",
    "            midle = True\n",
    "        \n",
    "        if midle == False:\n",
    "            space_number -= 1\n",
    "            step += 1\n",
    "        else: \n",
    "            step -= 1\n",
    "            space_number += 1\n",
    "        print()\n",
    "\n",
    "romb(5)"
   ]
  }
 ],
 "metadata": {
  "kernelspec": {
   "display_name": "Python 3.10.7 64-bit",
   "language": "python",
   "name": "python3"
  },
  "language_info": {
   "codemirror_mode": {
    "name": "ipython",
    "version": 3
   },
   "file_extension": ".py",
   "mimetype": "text/x-python",
   "name": "python",
   "nbconvert_exporter": "python",
   "pygments_lexer": "ipython3",
   "version": "3.10.7"
  },
  "vscode": {
   "interpreter": {
    "hash": "00bdf3be5446fdce3e7379d2e3094918f7572d10fb9c78806726450d207ce834"
   }
  }
 },
 "nbformat": 4,
 "nbformat_minor": 5
}
