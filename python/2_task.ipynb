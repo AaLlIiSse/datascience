{
 "cells": [
  {
   "cell_type": "markdown",
   "id": "246424fe",
   "metadata": {},
   "source": [
    "# Самостоятельная работа #2\n",
    "### Задание 1\n",
    "\n",
    "Допишите функцию, которая принимает 2 числа, сравнивает между собой и возвращает наименьшее."
   ]
  },
  {
   "cell_type": "code",
   "execution_count": 1,
   "id": "1b225d18",
   "metadata": {},
   "outputs": [
    {
     "data": {
      "text/plain": [
       "1"
      ]
     },
     "execution_count": 1,
     "metadata": {},
     "output_type": "execute_result"
    }
   ],
   "source": [
    "def less_number(x, y) -> int:\n",
    "    return min(x, y)\n",
    "\n",
    "less_number(1, 2)"
   ]
  },
  {
   "cell_type": "markdown",
   "id": "9342d85f",
   "metadata": {},
   "source": [
    "### Задание 2\n",
    "\n",
    "Допишите функцию, которая принимает 3 числа, сравнивает между собой и возвращает наименьшее."
   ]
  },
  {
   "cell_type": "code",
   "execution_count": 2,
   "id": "5371aa95",
   "metadata": {},
   "outputs": [
    {
     "data": {
      "text/plain": [
       "1"
      ]
     },
     "execution_count": 2,
     "metadata": {},
     "output_type": "execute_result"
    }
   ],
   "source": [
    "def less_of_3(x, y, z) -> int:\n",
    "    return min(x, y, z)\n",
    "\n",
    "less_of_3(1, 2, 3)"
   ]
  },
  {
   "cell_type": "markdown",
   "id": "9ef85dfd",
   "metadata": {},
   "source": [
    "### Задание 2\n",
    "\n",
    "Допишите функцию, которая принимает 3 числа, сравнивает между собой и возвращает количество совпадающих чисел. Соответственно, программа может возвращать одно из трех чисел: 3 - если совпадают все, 2 - если совпадают 2 числа, 0 - если все числа различны."
   ]
  },
  {
   "cell_type": "code",
   "execution_count": 3,
   "id": "ec6a169c",
   "metadata": {},
   "outputs": [
    {
     "data": {
      "text/plain": [
       "2"
      ]
     },
     "execution_count": 3,
     "metadata": {},
     "output_type": "execute_result"
    }
   ],
   "source": [
    "def coincidences(x, y, z) -> int:\n",
    "    if len(set([x, y, z])) == 3:\n",
    "        return 0\n",
    "    elif len(set([x, y, z])) == 2:\n",
    "        return 2\n",
    "    else:\n",
    "        return 3\n",
    "\n",
    "coincidences(1, 2, 2)"
   ]
  }
 ],
 "metadata": {
  "kernelspec": {
   "display_name": "Python 3.10.7 64-bit",
   "language": "python",
   "name": "python3"
  },
  "language_info": {
   "codemirror_mode": {
    "name": "ipython",
    "version": 3
   },
   "file_extension": ".py",
   "mimetype": "text/x-python",
   "name": "python",
   "nbconvert_exporter": "python",
   "pygments_lexer": "ipython3",
   "version": "3.10.7"
  },
  "vscode": {
   "interpreter": {
    "hash": "00bdf3be5446fdce3e7379d2e3094918f7572d10fb9c78806726450d207ce834"
   }
  }
 },
 "nbformat": 4,
 "nbformat_minor": 5
}
